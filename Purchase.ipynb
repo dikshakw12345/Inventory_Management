{
  "nbformat": 4,
  "nbformat_minor": 0,
  "metadata": {
    "colab": {
      "name": "Purchase.ipynb",
      "provenance": [],
      "collapsed_sections": []
    },
    "kernelspec": {
      "name": "python3",
      "display_name": "Python 3"
    },
    "language_info": {
      "name": "python"
    }
  },
  "cells": [
    {
      "cell_type": "code",
      "metadata": {
        "id": "8nH2qRJDfSrG",
        "colab": {
          "base_uri": "https://localhost:8080/"
        },
        "outputId": "e47e320a-8deb-4139-9f65-66b548f26a0f"
      },
      "source": [
        "#PURCHASE\n",
        "ui_prod=str(input(\"Enter Product id:-\"))\n",
        "ui_qn=int(input(\"Enter Quantity required :-\"))\n",
        "\n",
        "#Checking our stock \n",
        "if(record[ui_prod]['Qn']==0):\n",
        "  print(\"We are out of stock\")\n",
        "else:\n",
        "  print(\"We have\",record[ui_prod]['Qn'],\"products\")  \n",
        "\n",
        "print(\"Product:-\",record[ui_prod][\"Prod_name\"])\n",
        "print(\"Product Price:-\",record[ui_prod][\"Prod_pr\"])\n",
        "print(\"Billing amount:- \",record[ui_prod][\"Prod_pr\"]*ui_qn)\n",
        "\n",
        "#updating records\n",
        "record[ui_prod][\"Qn\"]=record[ui_prod][\"Qn\"]-ui_qn"
      ],
      "execution_count": 9,
      "outputs": [
        {
          "output_type": "stream",
          "name": "stdout",
          "text": [
            "Enter Product id:-132\n",
            "Enter Quantity required :-56\n",
            "We have 70 products\n",
            "Product:- chutney\n",
            "Product Price:- 27\n",
            "Billing amount:-  1512\n"
          ]
        }
      ]
    },
    {
      "cell_type": "code",
      "metadata": {
        "id": "UHxiwmgKfqqk"
      },
      "source": [
        "#UPDATION AFTER PURCHASE\n",
        "js=json.dumps(record)\n",
        "\n",
        "fd=open(\"record.json\",\"w\")\n",
        "fd.write(js)\n",
        "fd.close()\n"
      ],
      "execution_count": 10,
      "outputs": []
    },
    {
      "cell_type": "code",
      "metadata": {
        "colab": {
          "base_uri": "https://localhost:8080/"
        },
        "id": "U88IvmjdxM-8",
        "outputId": "2e31c221-33c6-4d38-f5e5-2aa25cf04c1c"
      },
      "source": [
        "record"
      ],
      "execution_count": 11,
      "outputs": [
        {
          "output_type": "execute_result",
          "data": {
            "text/plain": [
              "{'101': {'Prod_name': 'Good Day', 'Prod_pr': 20, 'Qn': 500},\n",
              " '102': {'Prod_name': 'Good Day', 'Prod_pr': 20, 'Qn': 500},\n",
              " '103': {'Prod_name': 'Good Day', 'Prod_pr': 20, 'Qn': 400},\n",
              " '104': {'Prod_name': 'Oreo', 'Prod_pr': 20, 'Qn': 700},\n",
              " '105': {'Prod_name': 'Bourbon', 'Prod_pr': 20, 'Qn': 700},\n",
              " '106': {'Prod_name': 'Parle', 'Prod_pr': 20, 'Qn': 500},\n",
              " '107': {'Prod_name': 'Jim-Jam', 'Prod_pr': 10, 'Qn': 500},\n",
              " '108': {'Prod_name': 'Marie', 'Prod_pr': 30, 'Qn': 300},\n",
              " '109': {'Prod_name': 'Unibic', 'Prod_pr': 50, 'Qn': 500},\n",
              " '110': {'Prod_name': 'Dark Fantasy', 'Prod_pr': 30, 'Qn': 500},\n",
              " '111': {'Prod_name': 'Horlics', 'Prod_pr': 20, 'Qn': 1000},\n",
              " '112': {'Prod_name': 'Bournvita', 'Prod_pr': 60, 'Qn': 500},\n",
              " '113': {'Prod_name': 'Kurkure', 'Prod_pr': 10, 'Qn': 500},\n",
              " '114': {'Prod_name': 'Lays', 'Prod_pr': 25, 'Qn': 900},\n",
              " '115': {'Prod_name': 'Soyasticks', 'Prod_pr': 20, 'Qn': 500},\n",
              " '116': {'Prod_name': 'Nutri Choics', 'Prod_pr': 20, 'Qn': 700},\n",
              " '117': {'Prod_name': 'Little hearts', 'Prod_pr': 25, 'Qn': 600},\n",
              " '118': {'Prod_name': 'Five star', 'Prod_pr': 10, 'Qn': 400},\n",
              " '119': {'Prod_name': 'Munch', 'Prod_pr': 10, 'Qn': 500},\n",
              " '120': {'Prod_name': 'Maggi', 'Prod_pr': 25, 'Qn': 500},\n",
              " '121': {'Prod_name': 'pasta', 'Prod_pr': 50, 'Qn': 700},\n",
              " '122': {'Prod_name': 'coconut crunch', 'Prod_pr': 20, 'Qn': 500},\n",
              " '123': {'Prod_name': 'Dairy Milk silk', 'Prod_pr': 80, 'Qn': 500},\n",
              " '124': {'Prod_name': 'Digestive', 'Prod_pr': 20, 'Qn': 500},\n",
              " '125': {'Prod_name': 'Fab', 'Prod_pr': 10, 'Qn': 500},\n",
              " '126': {'Prod_name': 'Bounce', 'Prod_pr': 20, 'Qn': 500},\n",
              " '127': {'Prod_name': 'Monaco', 'Prod_pr': 20, 'Qn': 100},\n",
              " '129': {'Prod_name': 'Schezwan Sauce', 'Prod_pr': 50, 'Qn': 500},\n",
              " '130': {'Prod_name': 'Happy-happy', 'Prod_pr': 20, 'Qn': 100},\n",
              " '132': {'Prod_name': 'chutney', 'Prod_pr': 27, 'Qn': 14},\n",
              " '134': {'Prod_name': 'dwxs', 'Prod_pr': 12, 'Qn': 456}}"
            ]
          },
          "metadata": {},
          "execution_count": 11
        }
      ]
    },
    {
      "cell_type": "code",
      "metadata": {
        "id": "phLSFKsNsxCO"
      },
      "source": [
        "sales={1:{\"Prod_id\":ui_prod,\"Qn\":ui_qn,\"Amount\":record[ui_prod][\"Prod_pr\"]*ui_qn},\n",
        "       2:{\"Prod_id\":ui_prod,\"Qn\":ui_qn,\"Amount\":record[ui_prod][\"Prod_pr\"]*ui_qn},\n",
        "       3:{\"Prod_id\":ui_prod,\"Qn\":ui_qn,\"Amount\":record[ui_prod][\"Prod_pr\"]*ui_qn}\n",
        "       }\n",
        "\n"
      ],
      "execution_count": 12,
      "outputs": []
    },
    {
      "cell_type": "code",
      "metadata": {
        "id": "SFRg3ezNxRzE",
        "colab": {
          "base_uri": "https://localhost:8080/"
        },
        "outputId": "bc07552a-b1cd-4ce9-9d7c-d4637a601838"
      },
      "source": [
        "{(len(sales)+1):{\"Prod_id\":ui_prod,\"Qn\":ui_qn,\"Amount\":record[ui_prod][\"Prod_pr\"]*ui_qn}}"
      ],
      "execution_count": 18,
      "outputs": [
        {
          "output_type": "execute_result",
          "data": {
            "text/plain": [
              "{4: {'Amount': 1512, 'Prod_id': '132', 'Qn': 56}}"
            ]
          },
          "metadata": {},
          "execution_count": 18
        }
      ]
    },
    {
      "cell_type": "code",
      "metadata": {
        "id": "vczycovzrFd8"
      },
      "source": [
        "sales[(len(sales)+1)]={\"Prod_id\":ui_prod,\"Qn\":ui_qn,\"Amount\":record[ui_prod][\"Prod_pr\"]*ui_qn}"
      ],
      "execution_count": 26,
      "outputs": []
    },
    {
      "cell_type": "code",
      "metadata": {
        "colab": {
          "base_uri": "https://localhost:8080/"
        },
        "id": "sTiNbeEAqsjQ",
        "outputId": "4a6aa74e-42a6-4ff6-a50b-1cac07ac94bd"
      },
      "source": [
        "sales"
      ],
      "execution_count": 29,
      "outputs": [
        {
          "output_type": "execute_result",
          "data": {
            "text/plain": [
              "{1: {'Amount': 1512, 'Prod_id': '132', 'Qn': 56},\n",
              " 2: {'Amount': 1512, 'Prod_id': '132', 'Qn': 56},\n",
              " 3: {'Amount': 1512, 'Prod_id': '132', 'Qn': 56},\n",
              " 4: {'Amount': 1512, 'Prod_id': '132', 'Qn': 56}}"
            ]
          },
          "metadata": {},
          "execution_count": 29
        }
      ]
    },
    {
      "cell_type": "code",
      "metadata": {
        "id": "Yd1wp4surrMH"
      },
      "source": [
        "Sale = json.dumps(sales)\n",
        "  \n",
        "# Writing to sale.json\n",
        "with open(\"sale.json\", \"a\") as outfile:\n",
        "  outfile.write(Sale)\n"
      ],
      "execution_count": 30,
      "outputs": []
    },
    {
      "cell_type": "code",
      "metadata": {
        "colab": {
          "base_uri": "https://localhost:8080/",
          "height": 53
        },
        "id": "32DyOE5trubv",
        "outputId": "bf34e666-6abb-4a35-c0c5-7c597a7682c8"
      },
      "source": [
        "Sale"
      ],
      "execution_count": 31,
      "outputs": [
        {
          "output_type": "execute_result",
          "data": {
            "application/vnd.google.colaboratory.intrinsic+json": {
              "type": "string"
            },
            "text/plain": [
              "'{\"1\": {\"Prod_id\": \"132\", \"Qn\": 56, \"Amount\": 1512}, \"2\": {\"Prod_id\": \"132\", \"Qn\": 56, \"Amount\": 1512}, \"3\": {\"Prod_id\": \"132\", \"Qn\": 56, \"Amount\": 1512}, \"4\": {\"Prod_id\": \"132\", \"Qn\": 56, \"Amount\": 1512}}'"
            ]
          },
          "metadata": {},
          "execution_count": 31
        }
      ]
    }
  ]
}