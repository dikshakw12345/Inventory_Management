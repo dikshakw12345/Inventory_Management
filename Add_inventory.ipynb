{
  "nbformat": 4,
  "nbformat_minor": 0,
  "metadata": {
    "colab": {
      "name": "Add_inventory.ipynb",
      "provenance": []
    },
    "kernelspec": {
      "name": "python3",
      "display_name": "Python 3"
    },
    "language_info": {
      "name": "python"
    }
  },
  "cells": [
    {
      "cell_type": "code",
      "metadata": {
        "id": "utlBS9kRoMwb"
      },
      "source": [
        "import json\n",
        "fd=open(\"record.json\",\"r\")\n",
        "rd=fd.read()\n",
        "fd.close()"
      ],
      "execution_count": 1,
      "outputs": []
    },
    {
      "cell_type": "code",
      "metadata": {
        "id": "fFev_fPGoWIO"
      },
      "source": [
        "record=json.loads(rd) #converting into Dictionary"
      ],
      "execution_count": 2,
      "outputs": []
    },
    {
      "cell_type": "code",
      "metadata": {
        "colab": {
          "base_uri": "https://localhost:8080/"
        },
        "id": "Esh377ZooZOI",
        "outputId": "2bb02db5-a5b8-4e56-d482-083d998b86a6"
      },
      "source": [
        "record"
      ],
      "execution_count": 3,
      "outputs": [
        {
          "output_type": "execute_result",
          "data": {
            "text/plain": [
              "{'101': {'Prod_name': 'Good Day', 'Prod_pr': 20, 'Qn': 500},\n",
              " '102': {'Prod_name': 'Good Day', 'Prod_pr': 20, 'Qn': 500},\n",
              " '103': {'Prod_name': 'Good Day', 'Prod_pr': 20, 'Qn': 400},\n",
              " '104': {'Prod_name': 'Oreo', 'Prod_pr': 20, 'Qn': 700},\n",
              " '105': {'Prod_name': 'Bourbon', 'Prod_pr': 20, 'Qn': 700},\n",
              " '106': {'Prod_name': 'Parle', 'Prod_pr': 20, 'Qn': 500},\n",
              " '107': {'Prod_name': 'Jim-Jam', 'Prod_pr': 10, 'Qn': 500},\n",
              " '108': {'Prod_name': 'Marie', 'Prod_pr': 30, 'Qn': 300},\n",
              " '109': {'Prod_name': 'Unibic', 'Prod_pr': 50, 'Qn': 500},\n",
              " '110': {'Prod_name': 'Dark Fantasy', 'Prod_pr': 30, 'Qn': 500},\n",
              " '111': {'Prod_name': 'Horlics', 'Prod_pr': 20, 'Qn': 1000},\n",
              " '112': {'Prod_name': 'Bournvita', 'Prod_pr': 60, 'Qn': 500},\n",
              " '113': {'Prod_name': 'Kurkure', 'Prod_pr': 10, 'Qn': 500},\n",
              " '114': {'Prod_name': 'Lays', 'Prod_pr': 25, 'Qn': 900},\n",
              " '115': {'Prod_name': 'Soyasticks', 'Prod_pr': 20, 'Qn': 500},\n",
              " '116': {'Prod_name': 'Nutri Choics', 'Prod_pr': 20, 'Qn': 700},\n",
              " '117': {'Prod_name': 'Little hearts', 'Prod_pr': 25, 'Qn': 600},\n",
              " '118': {'Prod_name': 'Five star', 'Prod_pr': 10, 'Qn': 400},\n",
              " '119': {'Prod_name': 'Munch', 'Prod_pr': 10, 'Qn': 500},\n",
              " '120': {'Prod_name': 'Maggi', 'Prod_pr': 25, 'Qn': 500},\n",
              " '121': {'Prod_name': 'pasta', 'Prod_pr': 50, 'Qn': 700},\n",
              " '122': {'Prod_name': 'coconut crunch', 'Prod_pr': 20, 'Qn': 500},\n",
              " '123': {'Prod_name': 'Dairy Milk silk', 'Prod_pr': 80, 'Qn': 500},\n",
              " '124': {'Prod_name': 'Digestive', 'Prod_pr': 20, 'Qn': 500},\n",
              " '125': {'Prod_name': 'Fab', 'Prod_pr': 10, 'Qn': 500},\n",
              " '126': {'Prod_name': 'Bounce', 'Prod_pr': 20, 'Qn': 500},\n",
              " '127': {'Prod_name': 'Monaco', 'Prod_pr': 20, 'Qn': 100},\n",
              " '129': {'Prod_name': 'Schezwan Sauce', 'Prod_pr': 50, 'Qn': 500},\n",
              " '130': {'Prod_name': 'Happy-happy', 'Prod_pr': 20, 'Qn': 100},\n",
              " '134': {'Prod_name': 'dwxs', 'Prod_pr': 12, 'Qn': 456}}"
            ]
          },
          "metadata": {},
          "execution_count": 3
        }
      ]
    },
    {
      "cell_type": "code",
      "metadata": {
        "colab": {
          "base_uri": "https://localhost:8080/"
        },
        "id": "R3ZT5cESoe5r",
        "outputId": "6ad1cc69-dc44-4667-e60a-59c194a537b4"
      },
      "source": [
        "#Adding Data in Inventory\n",
        "Prod_id=str(input(\"Enter Product id:-\"))\n",
        "Prod_name=str(input(\"Enter Product name:-\"))\n",
        "Prod_pr=int(input(\"Enter Price:-\"))\n",
        "Qn=int(input(\"Enter quantity:-\"))\n",
        "#record[\"Qn\"]=dict.get(\"Qn\")+Qn\n",
        "record[Prod_id]={\"Prod_name\":Prod_name ,\"Prod_pr\":Prod_pr,\"Qn\":Qn}\n",
        "\n",
        "js=json.dumps(record)\n",
        "\n",
        "fd=open(\"record.json\",\"w\")\n",
        "fd.write(js)\n",
        "fd.close()\n"
      ],
      "execution_count": 5,
      "outputs": [
        {
          "name": "stdout",
          "output_type": "stream",
          "text": [
            "Enter Product id:-134\n",
            "Enter Product name:-Schezwan \n",
            "Enter Price:-45\n",
            "Enter quantity:-90\n"
          ]
        }
      ]
    },
    {
      "cell_type": "code",
      "metadata": {
        "colab": {
          "base_uri": "https://localhost:8080/"
        },
        "id": "KzR78mZUorJd",
        "outputId": "6fa02fa0-d888-403a-9717-184828b07f4b"
      },
      "source": [
        "record"
      ],
      "execution_count": 6,
      "outputs": [
        {
          "output_type": "execute_result",
          "data": {
            "text/plain": [
              "{'101': {'Prod_name': 'Good Day', 'Prod_pr': 20, 'Qn': 500},\n",
              " '102': {'Prod_name': 'Good Day', 'Prod_pr': 20, 'Qn': 500},\n",
              " '103': {'Prod_name': 'Good Day', 'Prod_pr': 20, 'Qn': 400},\n",
              " '104': {'Prod_name': 'Oreo', 'Prod_pr': 20, 'Qn': 700},\n",
              " '105': {'Prod_name': 'Bourbon', 'Prod_pr': 20, 'Qn': 700},\n",
              " '106': {'Prod_name': 'Parle', 'Prod_pr': 20, 'Qn': 500},\n",
              " '107': {'Prod_name': 'Jim-Jam', 'Prod_pr': 10, 'Qn': 500},\n",
              " '108': {'Prod_name': 'Marie', 'Prod_pr': 30, 'Qn': 300},\n",
              " '109': {'Prod_name': 'Unibic', 'Prod_pr': 50, 'Qn': 500},\n",
              " '110': {'Prod_name': 'Dark Fantasy', 'Prod_pr': 30, 'Qn': 500},\n",
              " '111': {'Prod_name': 'Horlics', 'Prod_pr': 20, 'Qn': 1000},\n",
              " '112': {'Prod_name': 'Bournvita', 'Prod_pr': 60, 'Qn': 500},\n",
              " '113': {'Prod_name': 'Kurkure', 'Prod_pr': 10, 'Qn': 500},\n",
              " '114': {'Prod_name': 'Lays', 'Prod_pr': 25, 'Qn': 900},\n",
              " '115': {'Prod_name': 'Soyasticks', 'Prod_pr': 20, 'Qn': 500},\n",
              " '116': {'Prod_name': 'Nutri Choics', 'Prod_pr': 20, 'Qn': 700},\n",
              " '117': {'Prod_name': 'Little hearts', 'Prod_pr': 25, 'Qn': 600},\n",
              " '118': {'Prod_name': 'Five star', 'Prod_pr': 10, 'Qn': 400},\n",
              " '119': {'Prod_name': 'Munch', 'Prod_pr': 10, 'Qn': 500},\n",
              " '120': {'Prod_name': 'Maggi', 'Prod_pr': 25, 'Qn': 500},\n",
              " '121': {'Prod_name': 'pasta', 'Prod_pr': 50, 'Qn': 700},\n",
              " '122': {'Prod_name': 'coconut crunch', 'Prod_pr': 20, 'Qn': 500},\n",
              " '123': {'Prod_name': 'Dairy Milk silk', 'Prod_pr': 80, 'Qn': 500},\n",
              " '124': {'Prod_name': 'Digestive', 'Prod_pr': 20, 'Qn': 500},\n",
              " '125': {'Prod_name': 'Fab', 'Prod_pr': 10, 'Qn': 500},\n",
              " '126': {'Prod_name': 'Bounce', 'Prod_pr': 20, 'Qn': 500},\n",
              " '127': {'Prod_name': 'Monaco', 'Prod_pr': 20, 'Qn': 100},\n",
              " '129': {'Prod_name': 'Schezwan Sauce', 'Prod_pr': 50, 'Qn': 500},\n",
              " '130': {'Prod_name': 'Happy-happy', 'Prod_pr': 20, 'Qn': 100},\n",
              " '134': {'Prod_name': 'Schezwan ', 'Prod_pr': 45, 'Qn': 90}}"
            ]
          },
          "metadata": {},
          "execution_count": 6
        }
      ]
    },
    {
      "cell_type": "code",
      "metadata": {
        "id": "G96nvKMvos0j"
      },
      "source": [
        ""
      ],
      "execution_count": null,
      "outputs": []
    }
  ]
}